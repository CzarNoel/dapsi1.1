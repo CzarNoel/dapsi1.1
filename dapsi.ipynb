{
 "cells": [
  {
   "cell_type": "markdown",
   "id": "specialized-maple",
   "metadata": {},
   "source": [
    "![uPsi-logo.png](https://i.postimg.cc/SxqZg7w5/logo-dapsi.png)"
   ]
  },
  {
   "cell_type": "markdown",
   "id": "killing-discipline",
   "metadata": {},
   "source": [
    "---\n",
    "\n",
    "# Análise de dados para POT com Jupyter Notebook e Python "
   ]
  },
  {
   "cell_type": "markdown",
   "id": "leading-process",
   "metadata": {},
   "source": [
    "\n",
    "### Dataset CSV - Human Resource\n",
    "Os dado tabulados são abertos ao público e o utilizamos para testar a ferramenta Jupyter Netebook, assim como a plotagem de gráficos para análise de dados.\n",
    "\n",
    "###### Fonte dos dados tabelados\n",
    "- [Kaggle](https://www.kaggle.com/rhuebner/human-resources-data-set)\n",
    "\n",
    "###### Informações sobre os dados\n",
    "- [Dicionário do Dataset](https://rpubs.com/rhuebner/hr_codebook_v14)   \n",
    "\n",
    "\n",
    "\n",
    "\n"
   ]
  },
  {
   "cell_type": "markdown",
   "id": "perceived-interface",
   "metadata": {},
   "source": [
    "\n",
    "---\n",
    "\n",
    "# 1)  \n",
    "\n",
    "## O que está sendo feito na célula de códigos abaixo? \n",
    "Primeiramente, como podem ver, o Jupyter Notebook é dividido em células. Cada célula pode conter programação ou texto. Essa célular, por exemplo, é apenas de texto, para podermos criar visualizações melhores da análise de dados que está sendo realizada.\n",
    "\n",
    "Em seguida esquematizo o que faço nas células seguintes de programação.\n",
    "\n",
    "###### Importa-se \"Pandas\"\n",
    "- Pandas é uma biblioteca para Python que tabula e permite a utilização de arquivos csv's, xtml e etc.\n",
    "- Pandas é uma biblioteca de código aberto (Grátis).\n",
    "\n",
    "###### Importa-se \"Seaborn\"\n",
    "- Seaborn é uma biblioteca para Python com poder computacional de plotar gráficos a partir de dados.\n",
    "- Seaborn é uma biblioteca de código aberto (Grátis).\n",
    "\n",
    "###### Se executa o arquivo csv\n",
    "- Arquivo com valores tabelados.\n",
    "\n"
   ]
  },
  {
   "cell_type": "code",
   "execution_count": 18,
   "id": "stuck-vietnamese",
   "metadata": {
    "scrolled": true
   },
   "outputs": [
    {
     "data": {
      "text/plain": [
       "<bound method NDFrame.head of                 Employee_Name  EmpID  MarriedID  MaritalStatusID  GenderID  \\\n",
       "0         Adinolfi, Wilson  K  10026          0                0         1   \n",
       "1    Ait Sidi, Karthikeyan     10084          1                1         1   \n",
       "2           Akinkuolie, Sarah  10196          1                1         0   \n",
       "3                Alagbe,Trina  10088          1                1         0   \n",
       "4            Anderson, Carol   10069          0                2         0   \n",
       "..                        ...    ...        ...              ...       ...   \n",
       "306            Woodson, Jason  10135          0                0         1   \n",
       "307        Ybarra, Catherine   10301          0                0         0   \n",
       "308          Zamora, Jennifer  10010          0                0         0   \n",
       "309               Zhou, Julia  10043          0                0         0   \n",
       "310             Zima, Colleen  10271          0                4         0   \n",
       "\n",
       "     EmpStatusID  DeptID  PerfScoreID  FromDiversityJobFairID  Salary  ...  \\\n",
       "0              1       5            4                       0   62506  ...   \n",
       "1              5       3            3                       0  104437  ...   \n",
       "2              5       5            3                       0   64955  ...   \n",
       "3              1       5            3                       0   64991  ...   \n",
       "4              5       5            3                       0   50825  ...   \n",
       "..           ...     ...          ...                     ...     ...  ...   \n",
       "306            1       5            3                       0   65893  ...   \n",
       "307            5       5            1                       0   48513  ...   \n",
       "308            1       3            4                       0  220450  ...   \n",
       "309            1       3            3                       0   89292  ...   \n",
       "310            1       5            3                       0   45046  ...   \n",
       "\n",
       "        ManagerName  ManagerID  RecruitmentSource PerformanceScore  \\\n",
       "0    Michael Albert       22.0           LinkedIn          Exceeds   \n",
       "1        Simon Roup        4.0             Indeed      Fully Meets   \n",
       "2    Kissy Sullivan       20.0           LinkedIn      Fully Meets   \n",
       "3      Elijiah Gray       16.0             Indeed      Fully Meets   \n",
       "4    Webster Butler       39.0      Google Search      Fully Meets   \n",
       "..              ...        ...                ...              ...   \n",
       "306  Kissy Sullivan       20.0           LinkedIn      Fully Meets   \n",
       "307  Brannon Miller       12.0      Google Search              PIP   \n",
       "308      Janet King        2.0  Employee Referral          Exceeds   \n",
       "309      Simon Roup        4.0  Employee Referral      Fully Meets   \n",
       "310   David Stanley       14.0           LinkedIn      Fully Meets   \n",
       "\n",
       "     EngagementSurvey EmpSatisfaction SpecialProjectsCount  \\\n",
       "0                4.60               5                    0   \n",
       "1                4.96               3                    6   \n",
       "2                3.02               3                    0   \n",
       "3                4.84               5                    0   \n",
       "4                5.00               4                    0   \n",
       "..                ...             ...                  ...   \n",
       "306              4.07               4                    0   \n",
       "307              3.20               2                    0   \n",
       "308              4.60               5                    6   \n",
       "309              5.00               3                    5   \n",
       "310              4.50               5                    0   \n",
       "\n",
       "    LastPerformanceReview_Date DaysLateLast30 Absences  \n",
       "0                    1/17/2019              0        1  \n",
       "1                    2/24/2016              0       17  \n",
       "2                    5/15/2012              0        3  \n",
       "3                     1/3/2019              0       15  \n",
       "4                     2/1/2016              0        2  \n",
       "..                         ...            ...      ...  \n",
       "306                  2/28/2019              0       13  \n",
       "307                   9/2/2015              5        4  \n",
       "308                  2/21/2019              0       16  \n",
       "309                   2/1/2019              0       11  \n",
       "310                  1/30/2019              0        2  \n",
       "\n",
       "[311 rows x 36 columns]>"
      ]
     },
     "execution_count": 18,
     "metadata": {},
     "output_type": "execute_result"
    }
   ],
   "source": [
    "import numpy as np\n",
    "import matplotlib.pyplot as plt\n",
    "import pandas as pd\n",
    "import seaborn as sns\n",
    "\n",
    "hrdat = pd.read_csv('hr.csv')\n",
    "hrdat.head"
   ]
  },
  {
   "cell_type": "markdown",
   "id": "desirable-vienna",
   "metadata": {},
   "source": [
    "---\n",
    "\n",
    "# 2)\n",
    "\n",
    "## O que está sendo feito na célula de códigos abaixo? \n",
    "\n",
    "###### Gerar informações dos dados tabulados no CSV\n",
    "- Assim descobrimos os nomes designados à cada coluna e o tipoe de dados como input para cada coluna.\n",
    "\n"
   ]
  },
  {
   "cell_type": "code",
   "execution_count": 27,
   "id": "fabulous-affiliate",
   "metadata": {
    "scrolled": true
   },
   "outputs": [
    {
     "name": "stdout",
     "output_type": "stream",
     "text": [
      "<class 'pandas.core.frame.DataFrame'>\n",
      "RangeIndex: 311 entries, 0 to 310\n",
      "Data columns (total 36 columns):\n",
      " #   Column                      Non-Null Count  Dtype  \n",
      "---  ------                      --------------  -----  \n",
      " 0   Employee_Name               311 non-null    object \n",
      " 1   EmpID                       311 non-null    int64  \n",
      " 2   MarriedID                   311 non-null    int64  \n",
      " 3   MaritalStatusID             311 non-null    int64  \n",
      " 4   GenderID                    311 non-null    int64  \n",
      " 5   EmpStatusID                 311 non-null    int64  \n",
      " 6   DeptID                      311 non-null    int64  \n",
      " 7   PerfScoreID                 311 non-null    int64  \n",
      " 8   FromDiversityJobFairID      311 non-null    int64  \n",
      " 9   Salary                      311 non-null    int64  \n",
      " 10  Termd                       311 non-null    int64  \n",
      " 11  PositionID                  311 non-null    int64  \n",
      " 12  Position                    311 non-null    object \n",
      " 13  State                       311 non-null    object \n",
      " 14  Zip                         311 non-null    int64  \n",
      " 15  DOB                         311 non-null    object \n",
      " 16  Sex                         311 non-null    object \n",
      " 17  MaritalDesc                 311 non-null    object \n",
      " 18  CitizenDesc                 311 non-null    object \n",
      " 19  HispanicLatino              311 non-null    object \n",
      " 20  RaceDesc                    311 non-null    object \n",
      " 21  DateofHire                  311 non-null    object \n",
      " 22  DateofTermination           104 non-null    object \n",
      " 23  TermReason                  311 non-null    object \n",
      " 24  EmploymentStatus            311 non-null    object \n",
      " 25  Department                  311 non-null    object \n",
      " 26  ManagerName                 311 non-null    object \n",
      " 27  ManagerID                   303 non-null    float64\n",
      " 28  RecruitmentSource           311 non-null    object \n",
      " 29  PerformanceScore            311 non-null    object \n",
      " 30  EngagementSurvey            311 non-null    float64\n",
      " 31  EmpSatisfaction             311 non-null    int64  \n",
      " 32  SpecialProjectsCount        311 non-null    int64  \n",
      " 33  LastPerformanceReview_Date  311 non-null    object \n",
      " 34  DaysLateLast30              311 non-null    int64  \n",
      " 35  Absences                    311 non-null    int64  \n",
      "dtypes: float64(2), int64(16), object(18)\n",
      "memory usage: 87.6+ KB\n"
     ]
    }
   ],
   "source": [
    "hrdat.info()"
   ]
  },
  {
   "cell_type": "markdown",
   "id": "internal-advice",
   "metadata": {},
   "source": [
    "---\n",
    "\n",
    "# 3)\n",
    "\n",
    "## O que está sendo feito nas células de códigos abaixo? \n",
    "\n",
    "###### Gerar plotagem com Seaborn a partir dos dados tabulados no CSV\n",
    "- Como o exemplo logo abaixo, plotamos Salário X Performance.\n",
    "- Será que conseguimos tirar alguma conclusão a partir dos desses parâmetros?\n"
   ]
  },
  {
   "cell_type": "code",
   "execution_count": 21,
   "id": "formed-water",
   "metadata": {
    "scrolled": false
   },
   "outputs": [
    {
     "data": {
      "text/plain": [
       "<AxesSubplot:xlabel='PerformanceScore', ylabel='Salary'>"
      ]
     },
     "execution_count": 21,
     "metadata": {},
     "output_type": "execute_result"
    },
    {
     "data": {
      "image/png": "[encoded data removed]",
      "text/plain": [
       "<Figure size 432x288 with 1 Axes>"
      ]
     },
     "metadata": {
      "needs_background": "light"
     },
     "output_type": "display_data"
    }
   ],
   "source": [
    "sns.barplot(x = hrdat['PerformanceScore'], y = hrdat['Salary'], palette='spring')"
   ]
  },
  {
   "cell_type": "markdown",
   "id": "vulnerable-holmes",
   "metadata": {},
   "source": [
    "---\n",
    "### Como podem ver logo abaixo: \n",
    "- Podemos analisar que há grande concentração de colaboradores ganhando entre  **50.000 USD** e  **100.000 USD** anuais.\n"
   ]
  },
  {
   "cell_type": "code",
   "execution_count": 82,
   "id": "scientific-aurora",
   "metadata": {
    "scrolled": false
   },
   "outputs": [
    {
     "data": {
      "text/plain": [
       "<seaborn.axisgrid.FacetGrid at 0x23eb3fe6fd0>"
      ]
     },
     "execution_count": 82,
     "metadata": {},
     "output_type": "execute_result"
    },
    {
     "data": {
      "image/png": "[encoded data removed]",
      "text/plain": [
       "<Figure size 360x360 with 1 Axes>"
      ]
     },
     "metadata": {
      "needs_background": "light"
     },
     "output_type": "display_data"
    }
   ],
   "source": [
    "sns.displot(hrdat['Salary'], palette='spring')\n"
   ]
  },
  {
   "cell_type": "markdown",
   "id": "coral-sharp",
   "metadata": {},
   "source": [
    "---\n",
    "### Como podem ver logo abaixo: \n",
    "- Podemos analisar que há grande concentração de colaboradores em **alta** performance cujos salários são mais baixos. Existe a possibilidade de que os colaboradores com salários mais elevados estejam desanimados com suas funções?\n",
    "\n",
    "- Entretanto, quanto maior o salário, maior a possibilidade do colaborador possuir ou atingir um alta performance.\n"
   ]
  },
  {
   "cell_type": "code",
   "execution_count": 81,
   "id": "weekly-intake",
   "metadata": {},
   "outputs": [
    {
     "data": {
      "text/plain": [
       "<seaborn.axisgrid.JointGrid at 0x23eb3df3fd0>"
      ]
     },
     "execution_count": 81,
     "metadata": {},
     "output_type": "execute_result"
    },
    {
     "data": {
      "image/png": "[encoded data removed]",
      "text/plain": [
       "<Figure size 432x432 with 3 Axes>"
      ]
     },
     "metadata": {
      "needs_background": "light"
     },
     "output_type": "display_data"
    }
   ],
   "source": [
    "sns.jointplot(x=hrdat['Salary'], y=hrdat['PerformanceScore'], palette='spring')\n"
   ]
  },
  {
   "cell_type": "markdown",
   "id": "becoming-pencil",
   "metadata": {},
   "source": [
    "---\n",
    "### Como podem ver logo abaixo: \n",
    "- **1 = Casado**\n",
    "- **2 = Não Casado**\n",
    "\n",
    "\n",
    "\n",
    "- O que podemos concluir a partir do gráfico? Qual a relação entre salário e estar casado dentro de uma organização?\n",
    "\n"
   ]
  },
  {
   "cell_type": "code",
   "execution_count": 73,
   "id": "greek-coach",
   "metadata": {},
   "outputs": [
    {
     "data": {
      "text/plain": [
       "<seaborn.axisgrid.JointGrid at 0x23eb2b380d0>"
      ]
     },
     "execution_count": 73,
     "metadata": {},
     "output_type": "execute_result"
    },
    {
     "data": {
      "image/png": "[encoded data removed]",
      "text/plain": [
       "<Figure size 432x432 with 3 Axes>"
      ]
     },
     "metadata": {
      "needs_background": "light"
     },
     "output_type": "display_data"
    }
   ],
   "source": [
    "sns.jointplot(x=hrdat['Salary'], y=hrdat['MarriedID'], palette='spring')"
   ]
  }
 ],
 "metadata": {
  "kernelspec": {
   "display_name": "Python 3",
   "language": "python",
   "name": "python3"
  },
  "language_info": {
   "codemirror_mode": {
    "name": "ipython",
    "version": 3
   },
   "file_extension": ".py",
   "mimetype": "text/x-python",
   "name": "python",
   "nbconvert_exporter": "python",
   "pygments_lexer": "ipython3",
   "version": "3.8.5"
  }
 },
 "nbformat": 4,
 "nbformat_minor": 5
}
